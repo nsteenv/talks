{
  "paragraphs": [
    {
      "text": "%md\n\n#Distributed Deep Learning on AWS with Caffe on Spark\n\n###By [Vincent Van Steenbergen](http://nsteenv.github.io)                                                ",
      "authenticationInfo": {},
      "dateUpdated": "Mar 15, 2016 9:35:21 AM",
      "config": {
        "colWidth": 12.0,
        "graph": {
          "mode": "table",
          "height": 300.0,
          "optionOpen": false,
          "keys": [],
          "values": [],
          "groups": [],
          "scatter": {}
        },
        "enabled": true,
        "editorMode": "ace/mode/markdown",
        "editorHide": true,
        "tableHide": false
      },
      "settings": {
        "params": {},
        "forms": {}
      },
      "jobName": "paragraph_1457969163839_115600672",
      "id": "20160314-152603_1981823755",
      "result": {
        "code": "SUCCESS",
        "type": "HTML",
        "msg": "\u003ch1\u003eDistributed Deep Learning on AWS with Caffe on Spark\u003c/h1\u003e\n\u003ch3\u003eBy \u003ca href\u003d\"http://nsteenv.github.io\"\u003eVincent Van Steenbergen\u003c/a\u003e\u003c/h3\u003e\n"
      },
      "dateCreated": "Mar 14, 2016 3:26:03 PM",
      "dateStarted": "Mar 15, 2016 9:35:14 AM",
      "dateFinished": "Mar 15, 2016 9:35:16 AM",
      "status": "FINISHED",
      "progressUpdateIntervalMs": 500
    },
    {
      "title": "Integrating Caffe on Spark with MLLib",
      "text": "import com.yahoo.ml.caffe.{Config, CaffeOnSpark, DataSource}\nimport org.apache.spark.ml.classification.LogisticRegression\n\n//CaffeOnSpark initialization\nval cos \u003d new CaffeOnSpark(sc)\nvar conf \u003d new Config(ctx).init()\n\n//perform DL training using the TRAINING source specified in Net prototxt\nval dl_train_source \u003d DataSource.getSource(conf, true)\ncos.train(dl_train_source)\n\n//apply DL model for feature extraction using the TEST source specified in Net prototxt\nval lr_raw_source \u003d DataSource.getSource(conf, false)\nval extracted_df \u003d cos.features(lr_raw_source)\n\n//prepare data for MLLib LogisticRegression\nval lr_input_df \u003d extracted_df.withColumn(\"Label\", cos.floatarray2doubleUDF(extracted_df(conf.label)))\n                              .withColumn(\"Feature\", cos.floatarray2doublevectorUDF(extracted_df(conf.features(0))))\n\n//Learn a LogisticRegression model via Apache MLlib\nval lr \u003d new LogisticRegression().setLabelCol(\"Label\").setFeaturesCol(\"Feature\")\nval lr_model \u003d lr.fit(lr_input_df)\n\n//save the LogisticRegression classification model onto HDFS\nlr_model.write.overwrite().save(conf.outputPath)",
      "dateUpdated": "Mar 15, 2016 11:50:02 AM",
      "config": {
        "colWidth": 12.0,
        "graph": {
          "mode": "table",
          "height": 300.0,
          "optionOpen": false,
          "keys": [],
          "values": [],
          "groups": [],
          "scatter": {}
        },
        "enabled": true,
        "editorMode": "ace/mode/scala",
        "editorHide": false,
        "title": true
      },
      "settings": {
        "params": {},
        "forms": {}
      },
      "jobName": "paragraph_1457969553978_1554499141",
      "id": "20160314-153233_2125730050",
      "dateCreated": "Mar 14, 2016 3:32:33 PM",
      "status": "READY",
      "progressUpdateIntervalMs": 500
    }
  ],
  "name": "Distributed Deep Learning on AWS",
  "id": "2BG9VUPDT",
  "owners": [],
  "readers": [],
  "writers": [],
  "angularObjects": {
    "2BFHRME8S": [],
    "2BF75K316": [],
    "2BER996AQ": []
  },
  "config": {
    "looknfeel": "default"
  },
  "info": {}
}
